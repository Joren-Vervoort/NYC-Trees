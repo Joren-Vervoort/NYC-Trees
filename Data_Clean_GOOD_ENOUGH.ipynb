{
 "cells": [
  {
   "cell_type": "markdown",
   "id": "pointed-rainbow",
   "metadata": {},
   "source": [
    "# Clean_Data_GOOD"
   ]
  },
  {
   "cell_type": "markdown",
   "id": "based-transformation",
   "metadata": {},
   "source": [
    "## Imported libraries"
   ]
  },
  {
   "cell_type": "code",
   "execution_count": 392,
   "id": "ordinary-necessity",
   "metadata": {},
   "outputs": [],
   "source": [
    "import pandas as pd #To work with dataframes\n",
    "import numpy as np #To work with np.arrays"
   ]
  },
  {
   "cell_type": "markdown",
   "id": "taken-stone",
   "metadata": {},
   "source": [
    "## Reading the data"
   ]
  },
  {
   "cell_type": "code",
   "execution_count": 393,
   "id": "ceramic-technology",
   "metadata": {},
   "outputs": [],
   "source": [
    "df = pd.read_csv('./datasets/data_100000.csv')"
   ]
  },
  {
   "cell_type": "markdown",
   "id": "variable-works",
   "metadata": {},
   "source": [
    "## Preprocessing the data"
   ]
  },
  {
   "cell_type": "code",
   "execution_count": 394,
   "id": "acoustic-passing",
   "metadata": {},
   "outputs": [],
   "source": [
    "pd.set_option('display.max_columns', None)"
   ]
  },
  {
   "cell_type": "markdown",
   "id": "instrumental-virgin",
   "metadata": {},
   "source": [
    "#### Dropping columns with excessive (or duplicate) information"
   ]
  },
  {
   "cell_type": "code",
   "execution_count": 395,
   "id": "healthy-budget",
   "metadata": {},
   "outputs": [],
   "source": [
    "\"\"\"\n",
    "information about the dropped columns: \n",
    "- 'root_stone','root_grate','root_other','trnk_wire','trnk_light','trnk_other','brnch_ligh','brnch_shoe','brnch_othe': All of these\n",
    "    columns are already described in the column 'problems'.\n",
    "- 'state': All trees are in the same state (=New York) because it is an internal state research, This column would only be \n",
    "    usefull if the same research was applied in another state.\n",
    "\n",
    "\"\"\"\n",
    "\n",
    "df = df.drop(['root_stone',\n",
    "              'root_grate',\n",
    "              'root_other',\n",
    "              'trnk_wire',\n",
    "              'trnk_light',\n",
    "              'trnk_other',\n",
    "              'brnch_ligh',\n",
    "              'brnch_shoe',\n",
    "              'brnch_othe',\n",
    "             'state'], axis=1)"
   ]
  },
  {
   "cell_type": "markdown",
   "id": "bridal-intervention",
   "metadata": {},
   "source": [
    "#### Renaming columns for readability"
   ]
  },
  {
   "cell_type": "code",
   "execution_count": 396,
   "id": "excellent-personal",
   "metadata": {},
   "outputs": [],
   "source": [
    "df = df.rename(columns={'tree_dbh':'tree_dbh[inch]','stump_diam':'stump_diam[inch]','sidewalk':'sidewalk_damage'})"
   ]
  },
  {
   "cell_type": "markdown",
   "id": "comprehensive-trunk",
   "metadata": {},
   "source": [
    "#### Replacing white spaces with np.nan value"
   ]
  },
  {
   "cell_type": "code",
   "execution_count": 397,
   "id": "unlike-expert",
   "metadata": {},
   "outputs": [],
   "source": [
    "df = df.replace(r'^\\s*$', np.nan, regex=True)"
   ]
  },
  {
   "cell_type": "markdown",
   "id": "loaded-mexican",
   "metadata": {},
   "source": [
    "#### Removing rows with non-valid values for the column tree_id"
   ]
  },
  {
   "cell_type": "code",
   "execution_count": 398,
   "id": "median-straight",
   "metadata": {},
   "outputs": [],
   "source": [
    "df.tree_id = df.tree_id.replace(r'^(\\d){6,10}*$', np.nan, regex=True)\n",
    "df = df.loc[df.tree_id != np.nan]"
   ]
  },
  {
   "cell_type": "markdown",
   "id": "allied-weekend",
   "metadata": {},
   "source": [
    "#### Setting the column tree_id as index"
   ]
  },
  {
   "cell_type": "code",
   "execution_count": 399,
   "id": "diverse-trunk",
   "metadata": {},
   "outputs": [],
   "source": [
    "df = df.set_index(\"tree_id\")"
   ]
  },
  {
   "cell_type": "markdown",
   "id": "serial-output",
   "metadata": {},
   "source": [
    "#### Creating an extra column genus_latin that contains the genus name of the species of the tree"
   ]
  },
  {
   "cell_type": "code",
   "execution_count": 400,
   "id": "multiple-learning",
   "metadata": {},
   "outputs": [],
   "source": [
    "df[\"genus_latin\"] = df.spc_latin.str.split(\" \").str.get(0)"
   ]
  },
  {
   "cell_type": "markdown",
   "id": "corresponding-corruption",
   "metadata": {},
   "source": [
    "#### Replacing values of the column sidewalk_damage with Yes/No depending on the value"
   ]
  },
  {
   "cell_type": "code",
   "execution_count": 401,
   "id": "geographic-cooler",
   "metadata": {},
   "outputs": [],
   "source": [
    "df.sidewalk_damage = df.sidewalk_damage.replace([\"Damage\",\"NoDamage\"], [\"Yes\",\"No\"])"
   ]
  },
  {
   "cell_type": "markdown",
   "id": "exceptional-gender",
   "metadata": {},
   "source": [
    "#### changing the column order for readability"
   ]
  },
  {
   "cell_type": "code",
   "execution_count": 402,
   "id": "designed-marks",
   "metadata": {},
   "outputs": [],
   "source": [
    "cols = df.columns.tolist()\n",
    "new_columns_order = [cols[0],cols[31],cols[8],cols[9],cols[6],cols[7],cols[14],cols[3],cols[4],\n",
    "        cols[2],cols[1],cols[15],cols[16],cols[17],cols[18],cols[19],cols[20],cols[5],\n",
    "            cols[10],cols[11],cols[12],cols[13],cols[24],cols[25],cols[26],cols[27],cols[28],\n",
    "            cols[29],cols[30],cols[21],cols[22],cols[23]]\n",
    "\n",
    "df = df.reindex(columns=new_columns_order)"
   ]
  },
  {
   "cell_type": "markdown",
   "id": "unknown-sequence",
   "metadata": {},
   "source": [
    "#### Replacing the 0 values and values that have more than 4 digits in the columns tree_dbh and stump_diam to np.nan"
   ]
  },
  {
   "cell_type": "code",
   "execution_count": 403,
   "id": "diagnostic-sussex",
   "metadata": {},
   "outputs": [
    {
     "name": "stderr",
     "output_type": "stream",
     "text": [
      "C:\\Users\\VervoortLaptop\\anaconda3\\envs\\Standard_Work_Env\\lib\\site-packages\\ipykernel_launcher.py:1: UserWarning: Pandas doesn't allow columns to be created via a new attribute name - see https://pandas.pydata.org/pandas-docs/stable/indexing.html#attribute-access\n",
      "  \"\"\"Entry point for launching an IPython kernel.\n",
      "C:\\Users\\VervoortLaptop\\anaconda3\\envs\\Standard_Work_Env\\lib\\site-packages\\ipykernel_launcher.py:2: UserWarning: Pandas doesn't allow columns to be created via a new attribute name - see https://pandas.pydata.org/pandas-docs/stable/indexing.html#attribute-access\n",
      "  \n"
     ]
    }
   ],
   "source": [
    "df.tree_dbh = df[\"tree_dbh[inch]\"].replace(0, np.nan)\n",
    "df.stump_diam = df[\"stump_diam[inch]\"].replace(0, np.nan)\n",
    "df[\"tree_dbh[inch]\"] = df[\"tree_dbh[inch]\"].replace(r'^(\\d){4,10}$', value = np.nan, regex=True)"
   ]
  },
  {
   "cell_type": "markdown",
   "id": "moved-eight",
   "metadata": {},
   "source": [
    "#### Checking the block_id,  zipcode, cb_num, borocode column for right amount of digits"
   ]
  },
  {
   "cell_type": "code",
   "execution_count": 404,
   "id": "patent-throat",
   "metadata": {},
   "outputs": [],
   "source": [
    "df[\"block_id\"] = df[\"block_id\"].replace(r'^(\\d){0,6}$', value = np.nan, regex=True)\n",
    "df[\"block_id\"] = df[\"block_id\"].replace(r'^(\\d){8,12}$',  value = np.nan, regex=True)\n",
    "\n",
    "df[\"zipcode\"] = df[\"zipcode\"].replace(r'^(\\d){0,4}$', value = np.nan, regex=True)\n",
    "df[\"zipcode\"] = df[\"zipcode\"].replace(r'^(\\d){6,10}$',  value = np.nan, regex=True)\n",
    "\n",
    "df[\"cb_num\"] = df[\"cb_num\"].replace(r'^(\\d){0,2}$', value = np.nan, regex=True)\n",
    "df[\"cb_num\"] = df[\"cb_num\"].replace(r'^(\\d){4,10}$',  value = np.nan, regex=True)\n",
    "\n",
    "df[\"borocode\"] = df[\"borocode\"].replace(r'^(\\d){3,10}$', value = np.nan, regex=True)"
   ]
  },
  {
   "cell_type": "markdown",
   "id": "unlimited-airport",
   "metadata": {},
   "source": [
    "#### Replacing the values of steward with more logical values"
   ]
  },
  {
   "cell_type": "code",
   "execution_count": 405,
   "id": "medical-monday",
   "metadata": {},
   "outputs": [],
   "source": [
    "df.steward = df.steward.replace(['None', '1or2', '3or4', '4orMore'], [\"0\",\"1 or 2\",\"3 or 4\",\"+4\" ])"
   ]
  },
  {
   "cell_type": "markdown",
   "id": "equipped-refrigerator",
   "metadata": {},
   "source": [
    "#### Checking the values of columns: status, health, guards, steward, user_type and curb_loc for valid values"
   ]
  },
  {
   "cell_type": "code",
   "execution_count": 406,
   "id": "induced-climb",
   "metadata": {},
   "outputs": [],
   "source": [
    "df.loc[~df[\"status\"].isin([\"Alive\",\"Dead\",\"Stump\"]), \"status\"] = np.nan\n",
    "df.loc[~df[\"health\"].isin([\"Good\",\"Fair\",\"Poor\"]), \"health\"] = np.nan\n",
    "df.loc[~df[\"guards\"].isin(['None', 'Helpful', 'Harmful', 'Unsure']), \"guards\"] = np.nan\n",
    "df.loc[~df[\"steward\"].isin([\"0\",\"1 or 2\",\"3 or 4\",\"+4\" ]), \"steward\"] = np.nan\n",
    "df.loc[~df[\"user_type\"].isin(['TreesCount Staff', 'Volunteer', 'NYC Parks Staff']), \"user_type\"] = np.nan\n",
    "df.loc[~df[\"curb_loc\"].isin(['OnCurb', 'OffsetFromCurb']), \"curb_loc\"] = np.nan"
   ]
  },
  {
   "cell_type": "markdown",
   "id": "bound-handle",
   "metadata": {},
   "source": [
    "#### Changing the dataframe to dtype: \"string\""
   ]
  },
  {
   "cell_type": "code",
   "execution_count": 407,
   "id": "compressed-azerbaijan",
   "metadata": {},
   "outputs": [],
   "source": [
    "df = df.applymap(str)"
   ]
  },
  {
   "cell_type": "markdown",
   "id": "supposed-montgomery",
   "metadata": {},
   "source": [
    "#### Removing all the excessive white spaces"
   ]
  },
  {
   "cell_type": "code",
   "execution_count": 408,
   "id": "exterior-darkness",
   "metadata": {},
   "outputs": [],
   "source": [
    "df = df.applymap(str.strip).rename(columns=str.strip)"
   ]
  },
  {
   "cell_type": "markdown",
   "id": "offshore-bracket",
   "metadata": {},
   "source": [
    "#### Replacing all the np.nan values of the dataframe by \"Information not available\""
   ]
  },
  {
   "cell_type": "code",
   "execution_count": 409,
   "id": "written-benefit",
   "metadata": {},
   "outputs": [],
   "source": [
    "df = df.replace(np.nan, \"Information not available\")"
   ]
  },
  {
   "cell_type": "markdown",
   "id": "optical-visitor",
   "metadata": {},
   "source": [
    "#### Changing the dtypes of each column to the correct form and consolidate them if necessary"
   ]
  },
  {
   "cell_type": "code",
   "execution_count": 410,
   "id": "pursuant-ecuador",
   "metadata": {},
   "outputs": [],
   "source": [
    "df.created_at = df.created_at.astype('datetime64')\n",
    "df.genus_latin = df.genus_latin.astype('string').str.capitalize()\n",
    "df.spc_latin = df.spc_latin.astype('string').str.capitalize()\n",
    "df.spc_common = df.spc_common.astype('string').str.capitalize()\n",
    "df.status = df.status.astype('string').str.capitalize()\n",
    "df.health = df.health.astype('string').str.capitalize()\n",
    "df.problems = df.problems.astype('string')\n",
    "df[\"tree_dbh[inch]\"] = df[\"tree_dbh[inch]\"].astype('int8')\n",
    "df[\"stump_diam[inch]\"] = df[\"stump_diam[inch]\"].astype('int8')\n",
    "df.address = df.address.astype('string').str.capitalize()\n",
    "df.zipcode = df.zipcode.astype('int16')\n",
    "df.zip_city = df.zip_city.astype('string')\n",
    "df.cb_num = df.cb_num.astype('int16')\n",
    "df.boroname = df.boroname.astype('string').str.capitalize()\n",
    "df.borocode = df.borocode.astype('int8')\n",
    "df.curb_loc = df.curb_loc.astype('string').str.capitalize()\n",
    "df.steward = df.steward.astype('string').str.lower()\n",
    "df.guards = df.guards.astype('string').str.capitalize()\n",
    "df.sidewalk_damage = df.sidewalk_damage.astype('string').str.capitalize()\n",
    "df.user_type = df.user_type.astype('string').str.capitalize()\n",
    "df.nta = df.nta.astype('string').str.upper()\n",
    "df.nta_name = df.nta_name.astype('string').str.capitalize()\n",
    "df.boro_ct = df.boro_ct.astype('int64')\n",
    "df.latitude  = df.latitude .astype(\"float64\") \n",
    "df.longitude = df.longitude.astype(\"float64\") \n",
    "df.x_sp = df.x_sp.astype(\"float64\") \n",
    "df.y_sp = df.y_sp.astype(\"float64\")                                               \n",
    "df.cncldist = df.cncldist.astype('int8')\n",
    "df.st_assem  = df.st_assem .astype('int8')\n",
    "df.st_senate  = df.st_senate .astype('int8')"
   ]
  },
  {
   "cell_type": "markdown",
   "id": "starting-designation",
   "metadata": {},
   "source": [
    "#### Splitting the information within the problems column and making a list of them"
   ]
  },
  {
   "cell_type": "code",
   "execution_count": 411,
   "id": "legendary-michael",
   "metadata": {},
   "outputs": [],
   "source": [
    "df.problems = list(df.problems.str.split(\",\"))"
   ]
  },
  {
   "cell_type": "markdown",
   "id": "isolated-steel",
   "metadata": {},
   "source": [
    "#### Creating a second dataset df_staff based on df with rows where user_type is not 'Volunteer'"
   ]
  },
  {
   "cell_type": "code",
   "execution_count": 412,
   "id": "collaborative-procurement",
   "metadata": {},
   "outputs": [],
   "source": [
    "df_staff = df[df.user_type != \"Volunteer\"]"
   ]
  },
  {
   "cell_type": "markdown",
   "id": "prerequisite-breast",
   "metadata": {},
   "source": [
    "## Saving the preprocessed data as .csv file"
   ]
  },
  {
   "cell_type": "code",
   "execution_count": 295,
   "id": "human-nepal",
   "metadata": {},
   "outputs": [],
   "source": [
    "df.to_csv(\"Clean_data_GOOD_ENOUGH_not_official.csv\")\n",
    "df_staff.to_csv(\"Clean_data_GOOD_ENOUGH_official.csv\")"
   ]
  },
  {
   "cell_type": "code",
   "execution_count": null,
   "id": "corresponding-hacker",
   "metadata": {},
   "outputs": [],
   "source": []
  },
  {
   "cell_type": "code",
   "execution_count": null,
   "id": "pacific-dialogue",
   "metadata": {},
   "outputs": [],
   "source": []
  },
  {
   "cell_type": "code",
   "execution_count": null,
   "id": "adjacent-offense",
   "metadata": {},
   "outputs": [],
   "source": []
  },
  {
   "cell_type": "code",
   "execution_count": null,
   "id": "rolled-terrorist",
   "metadata": {},
   "outputs": [],
   "source": []
  },
  {
   "cell_type": "code",
   "execution_count": null,
   "id": "second-theory",
   "metadata": {},
   "outputs": [],
   "source": []
  },
  {
   "cell_type": "code",
   "execution_count": null,
   "id": "backed-japanese",
   "metadata": {},
   "outputs": [],
   "source": []
  }
 ],
 "metadata": {
  "kernelspec": {
   "display_name": "Standard Work Kernel",
   "language": "python",
   "name": "standard_work_env"
  },
  "language_info": {
   "codemirror_mode": {
    "name": "ipython",
    "version": 3
   },
   "file_extension": ".py",
   "mimetype": "text/x-python",
   "name": "python",
   "nbconvert_exporter": "python",
   "pygments_lexer": "ipython3",
   "version": "3.7.10"
  }
 },
 "nbformat": 4,
 "nbformat_minor": 5
}
